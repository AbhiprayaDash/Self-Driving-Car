{
 "cells": [
  {
   "cell_type": "code",
   "execution_count": 6,
   "metadata": {},
   "outputs": [],
   "source": [
    "from numpy import dot\n",
    "def kf_predict(X, P, A, Q, B, U):\n",
    "    X = dot(A, X) + dot(B, U)\n",
    "    P = dot(A, dot(P, A.T)) + Q\n",
    "    return(X,P)"
   ]
  },
  {
   "cell_type": "code",
   "execution_count": 7,
   "metadata": {},
   "outputs": [],
   "source": [
    "from numpy import dot, sum, tile, linalg\n",
    "from numpy.linalg import inv"
   ]
  },
  {
   "cell_type": "code",
   "execution_count": 9,
   "metadata": {},
   "outputs": [],
   "source": [
    "def kf_update(X, P, Y, H, R):\n",
    "    IM = dot(H, X)\n",
    "    IS = R + dot(H, dot(P, H.T))\n",
    "    K = dot(P, dot(H.T, inv(IS)))\n",
    "    X = X + dot(K, (Y-IM))\n",
    "    P = P - dot(K, dot(IS, K.T))\n",
    "    LH = gauss_pdf(Y, IM, IS)\n",
    "    return (X,P,K,IM,IS,LH)\n",
    "def gauss_pdf(X, M, S):\n",
    "    if M.shape()[1] == 1:\n",
    "        DX = X - tile(M, X.shape()[1])\n",
    "        E = 0.5 * sum(DX * (dot(inv(S), DX)), axis=0)\n",
    "        E = E + 0.5 * M.shape()[0] * log(2 * pi) + 0.5 * log(det(S))\n",
    "        P = exp(-E)\n",
    "    elif X.shape()[1] == 1:\n",
    "        DX = tile(X, M.shape()[1])- M\n",
    "        E = 0.5 * sum(DX * (dot(inv(S), DX)), axis=0)\n",
    "        E = E + 0.5 * M.shape()[0] * log(2 * pi) + 0.5 * log(det(S))\n",
    "        P = exp(-E)\n",
    "    else:\n",
    "        DX = X-M\n",
    "        E = 0.5 * dot(DX.T, dot(inv(S), DX))\n",
    "        E = E + 0.5 * M.shape()[0] * log(2 * pi) + 0.5 * log(det(S))\n",
    "        P = exp(-E)\n",
    "    return (P[0],E[0])"
   ]
  },
  {
   "cell_type": "code",
   "execution_count": null,
   "metadata": {},
   "outputs": [],
   "source": []
  }
 ],
 "metadata": {
  "kernelspec": {
   "display_name": "Python 3",
   "language": "python",
   "name": "python3"
  },
  "language_info": {
   "codemirror_mode": {
    "name": "ipython",
    "version": 3
   },
   "file_extension": ".py",
   "mimetype": "text/x-python",
   "name": "python",
   "nbconvert_exporter": "python",
   "pygments_lexer": "ipython3",
   "version": "3.6.5"
  }
 },
 "nbformat": 4,
 "nbformat_minor": 2
}
